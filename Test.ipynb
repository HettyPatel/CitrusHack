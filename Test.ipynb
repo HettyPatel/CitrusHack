{
 "cells": [
  {
   "cell_type": "code",
   "execution_count": 1,
   "metadata": {},
   "outputs": [
    {
     "name": "stdout",
     "output_type": "stream",
     "text": [
      "WARNING ⚠️ 'yolo mode=checks' is deprecated. Use 'yolo checks' instead.\n",
      "Ultralytics YOLOv8.0.90 🚀 Python-3.9.16 torch-2.0.0 CUDA:0 (NVIDIA RTX A4000, 16109MiB)\n",
      "Setup complete ✅ (64 CPUs, 251.7 GB RAM, 472.9/1758.9 GB disk)\n"
     ]
    }
   ],
   "source": [
    "import os\n",
    "os.environ[\"CUDA_VISIBLE_DEVICES\"]=\"2\"\n",
    "from IPython import display\n",
    "display.clear_output()\n",
    "!yolo mode=checks\n",
    "\n",
    "from ultralytics import YOLO \n",
    "from IPython.display import display, Image\n"
   ]
  },
  {
   "cell_type": "code",
   "execution_count": 2,
   "metadata": {},
   "outputs": [
    {
     "name": "stdout",
     "output_type": "stream",
     "text": [
      "Requirement already satisfied: roboflow in /home/hpate061/anaconda3/envs/SAM/lib/python3.9/site-packages (1.0.5)\n",
      "Requirement already satisfied: requests in /home/hpate061/anaconda3/envs/SAM/lib/python3.9/site-packages (from roboflow) (2.28.1)\n",
      "Requirement already satisfied: idna==2.10 in /home/hpate061/anaconda3/envs/SAM/lib/python3.9/site-packages (from roboflow) (2.10)\n",
      "Requirement already satisfied: numpy>=1.18.5 in /home/hpate061/anaconda3/envs/SAM/lib/python3.9/site-packages (from roboflow) (1.23.5)\n",
      "Requirement already satisfied: cycler==0.10.0 in /home/hpate061/anaconda3/envs/SAM/lib/python3.9/site-packages (from roboflow) (0.10.0)\n",
      "Requirement already satisfied: certifi==2022.12.7 in /home/hpate061/anaconda3/envs/SAM/lib/python3.9/site-packages (from roboflow) (2022.12.7)\n",
      "Requirement already satisfied: tqdm>=4.41.0 in /home/hpate061/anaconda3/envs/SAM/lib/python3.9/site-packages (from roboflow) (4.65.0)\n",
      "Requirement already satisfied: pyparsing==2.4.7 in /home/hpate061/anaconda3/envs/SAM/lib/python3.9/site-packages (from roboflow) (2.4.7)\n",
      "Requirement already satisfied: chardet==4.0.0 in /home/hpate061/anaconda3/envs/SAM/lib/python3.9/site-packages (from roboflow) (4.0.0)\n",
      "Requirement already satisfied: python-dateutil in /home/hpate061/anaconda3/envs/SAM/lib/python3.9/site-packages (from roboflow) (2.8.2)\n",
      "Requirement already satisfied: matplotlib in /home/hpate061/anaconda3/envs/SAM/lib/python3.9/site-packages (from roboflow) (3.7.1)\n",
      "Requirement already satisfied: python-dotenv in /home/hpate061/anaconda3/envs/SAM/lib/python3.9/site-packages (from roboflow) (1.0.0)\n",
      "Requirement already satisfied: six in /home/hpate061/anaconda3/envs/SAM/lib/python3.9/site-packages (from roboflow) (1.16.0)\n",
      "Requirement already satisfied: wget in /home/hpate061/anaconda3/envs/SAM/lib/python3.9/site-packages (from roboflow) (3.2)\n",
      "Requirement already satisfied: kiwisolver>=1.3.1 in /home/hpate061/anaconda3/envs/SAM/lib/python3.9/site-packages (from roboflow) (1.4.4)\n",
      "Requirement already satisfied: urllib3>=1.26.6 in /home/hpate061/anaconda3/envs/SAM/lib/python3.9/site-packages (from roboflow) (1.26.15)\n",
      "Requirement already satisfied: PyYAML>=5.3.1 in /home/hpate061/anaconda3/envs/SAM/lib/python3.9/site-packages (from roboflow) (6.0)\n",
      "Requirement already satisfied: requests-toolbelt in /home/hpate061/anaconda3/envs/SAM/lib/python3.9/site-packages (from roboflow) (0.10.1)\n",
      "Requirement already satisfied: opencv-python>=4.1.2 in /home/hpate061/anaconda3/envs/SAM/lib/python3.9/site-packages (from roboflow) (4.7.0.72)\n",
      "Requirement already satisfied: Pillow>=7.1.2 in /home/hpate061/anaconda3/envs/SAM/lib/python3.9/site-packages (from roboflow) (9.4.0)\n",
      "Requirement already satisfied: contourpy>=1.0.1 in /home/hpate061/anaconda3/envs/SAM/lib/python3.9/site-packages (from matplotlib->roboflow) (1.0.7)\n",
      "Requirement already satisfied: importlib-resources>=3.2.0 in /home/hpate061/anaconda3/envs/SAM/lib/python3.9/site-packages (from matplotlib->roboflow) (5.12.0)\n",
      "Requirement already satisfied: fonttools>=4.22.0 in /home/hpate061/anaconda3/envs/SAM/lib/python3.9/site-packages (from matplotlib->roboflow) (4.39.3)\n",
      "Requirement already satisfied: packaging>=20.0 in /home/hpate061/anaconda3/envs/SAM/lib/python3.9/site-packages (from matplotlib->roboflow) (23.0)\n",
      "Requirement already satisfied: charset-normalizer<3,>=2 in /home/hpate061/anaconda3/envs/SAM/lib/python3.9/site-packages (from requests->roboflow) (2.0.4)\n",
      "Requirement already satisfied: zipp>=3.1.0 in /home/hpate061/anaconda3/envs/SAM/lib/python3.9/site-packages (from importlib-resources>=3.2.0->matplotlib->roboflow) (3.11.0)\n",
      "loading Roboflow workspace...\n",
      "loading Roboflow project...\n",
      "Dependency ultralytics<=8.0.20 is required but found version=8.0.90, to fix: `pip install ultralytics<=8.0.20`\n",
      "Downloading Dataset Version Zip in citrushackandcustom-1 to yolov8: 100% [521071347 / 521071347] bytes\n"
     ]
    },
    {
     "name": "stderr",
     "output_type": "stream",
     "text": [
      "Extracting Dataset Version Zip to citrushackandcustom-1 in yolov8:: 100%|██████████| 7572/7572 [00:01<00:00, 6865.45it/s] \n"
     ]
    }
   ],
   "source": [
    "!pip install roboflow\n",
    "\n",
    "from roboflow import Roboflow\n",
    "rf = Roboflow(api_key=\"McoQ2UFDxFzalwE5z5dN\")\n",
    "project = rf.workspace(\"hetty\").project(\"citrushackandcustom\")\n",
    "dataset = project.version(1).download(\"yolov8\")"
   ]
  },
  {
   "cell_type": "code",
   "execution_count": null,
   "metadata": {},
   "outputs": [],
   "source": [
    "!yolo task=detect mode=train model=yolov8n.pt data={dataset.location}/data.yaml epochs=100 imgsz=640"
   ]
  },
  {
   "cell_type": "code",
   "execution_count": null,
   "metadata": {},
   "outputs": [],
   "source": [
    "Image(\"/home/hpate061/CitrusHack/runs/detect/train/confusion_matrix.png\")"
   ]
  },
  {
   "cell_type": "code",
   "execution_count": null,
   "metadata": {},
   "outputs": [],
   "source": [
    "Image(\"/home/hpate061/CitrusHack/runs/detect/train/results.png\")"
   ]
  },
  {
   "cell_type": "code",
   "execution_count": null,
   "metadata": {},
   "outputs": [],
   "source": [
    "Image(\"/home/hpate061/CitrusHack/runs/detect/train/val_batch1_pred.jpg\")"
   ]
  },
  {
   "cell_type": "code",
   "execution_count": null,
   "metadata": {},
   "outputs": [],
   "source": [
    "!yolo task=detect mode=val model=/home/hpate061/CitrusHack/runs/detect/train/weights/best.pt data={dataset.location}/data.yaml"
   ]
  },
  {
   "cell_type": "code",
   "execution_count": null,
   "metadata": {},
   "outputs": [],
   "source": []
  },
  {
   "cell_type": "code",
   "execution_count": null,
   "metadata": {},
   "outputs": [],
   "source": [
    "!yolo task=detect mode=predict model=/home/hpate061/CitrusHack/runs/detect/train/weights/best.pt conf=0.25 source={dataset.location}/test/images"
   ]
  },
  {
   "cell_type": "code",
   "execution_count": null,
   "metadata": {},
   "outputs": [],
   "source": [
    "project.version(dataset.version).deploy(model_type='yolov8', model_path=\"/home/hpate061/CitrusHack/runs/detect/train\")"
   ]
  },
  {
   "cell_type": "code",
   "execution_count": null,
   "metadata": {},
   "outputs": [],
   "source": []
  }
 ],
 "metadata": {
  "kernelspec": {
   "display_name": "SAM",
   "language": "python",
   "name": "sam"
  },
  "language_info": {
   "codemirror_mode": {
    "name": "ipython",
    "version": 3
   },
   "file_extension": ".py",
   "mimetype": "text/x-python",
   "name": "python",
   "nbconvert_exporter": "python",
   "pygments_lexer": "ipython3",
   "version": "3.9.16"
  },
  "orig_nbformat": 4
 },
 "nbformat": 4,
 "nbformat_minor": 2
}
